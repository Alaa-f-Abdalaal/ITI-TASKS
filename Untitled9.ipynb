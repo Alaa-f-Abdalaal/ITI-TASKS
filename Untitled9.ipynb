{
  "nbformat": 4,
  "nbformat_minor": 0,
  "metadata": {
    "colab": {
      "provenance": [],
      "authorship_tag": "ABX9TyPBcp5EFx7BgWQtRvKX4suL",
      "include_colab_link": true
    },
    "kernelspec": {
      "name": "python3",
      "display_name": "Python 3"
    },
    "language_info": {
      "name": "python"
    }
  },
  "cells": [
    {
      "cell_type": "markdown",
      "metadata": {
        "id": "view-in-github",
        "colab_type": "text"
      },
      "source": [
        "<a href=\"https://colab.research.google.com/github/Alaa-f-Abdalaal/ITI-TASKS/blob/main/Untitled9.ipynb\" target=\"_parent\"><img src=\"https://colab.research.google.com/assets/colab-badge.svg\" alt=\"Open In Colab\"/></a>"
      ]
    },
    {
      "cell_type": "code",
      "execution_count": 1,
      "metadata": {
        "colab": {
          "base_uri": "https://localhost:8080/"
        },
        "id": "IarFu1MKsn57",
        "outputId": "17fd8aab-1d15-43ad-950f-e3dc9cd087d1"
      },
      "outputs": [
        {
          "output_type": "stream",
          "name": "stdout",
          "text": [
            "Manual Mean: 20.5\n",
            "NumPy Mean: 20.5\n"
          ]
        }
      ],
      "source": [
        "import numpy as np\n",
        "\n",
        "ages = [18, 21, 20, 19, 22, 23, 20, 21, 22, 19]\n",
        "\n",
        "# Manual Mean\n",
        "mean_manual = sum(ages) / len(ages)\n",
        "print(\"Manual Mean:\", mean_manual)\n",
        "\n",
        "# NumPy Mean\n",
        "mean_numpy = np.mean(ages)\n",
        "print(\"NumPy Mean:\", mean_numpy)\n"
      ]
    },
    {
      "cell_type": "code",
      "source": [
        "import random\n",
        "import numpy as np\n",
        "\n",
        "nums = [random.randint(10, 50) for _ in range(15)]\n",
        "print(\"Random List:\", nums)\n",
        "\n",
        "# Manual Median\n",
        "sorted_nums = sorted(nums)\n",
        "n = len(sorted_nums)\n",
        "if n % 2 == 1:\n",
        "    median_manual = sorted_nums[n // 2]\n",
        "else:\n",
        "    median_manual = (sorted_nums[n // 2 - 1] + sorted_nums[n // 2]) / 2\n",
        "print(\"Manual Median:\", median_manual)\n",
        "\n",
        "# NumPy Median\n",
        "median_numpy = np.median(nums)\n",
        "print(\"NumPy Median:\", median_numpy)\n"
      ],
      "metadata": {
        "colab": {
          "base_uri": "https://localhost:8080/"
        },
        "id": "vPyFYpewtARX",
        "outputId": "2fbd75bf-52f0-4557-8214-78bcc1af967d"
      },
      "execution_count": 2,
      "outputs": [
        {
          "output_type": "stream",
          "name": "stdout",
          "text": [
            "Random List: [16, 48, 40, 38, 16, 17, 40, 13, 40, 21, 33, 14, 13, 37, 45]\n",
            "Manual Median: 33\n",
            "NumPy Median: 33.0\n"
          ]
        }
      ]
    },
    {
      "cell_type": "code",
      "source": [
        "min_manual = min(nums)\n",
        "max_manual = max(nums)\n",
        "range_manual = max_manual - min_manual\n",
        "print(\"Manual Min:\", min_manual)\n",
        "print(\"Manual Max:\", max_manual)\n",
        "print(\"Manual Range:\", range_manual)\n",
        "\n",
        "print(\"NumPy Min:\", np.min(nums))\n",
        "print(\"NumPy Max:\", np.max(nums))\n",
        "print(\"NumPy Range:\", np.ptp(nums))\n"
      ],
      "metadata": {
        "colab": {
          "base_uri": "https://localhost:8080/"
        },
        "id": "wdcOufHotATt",
        "outputId": "f8d935f3-3e71-46ec-bc23-87e00c75657e"
      },
      "execution_count": 3,
      "outputs": [
        {
          "output_type": "stream",
          "name": "stdout",
          "text": [
            "Manual Min: 13\n",
            "Manual Max: 48\n",
            "Manual Range: 35\n",
            "NumPy Min: 13\n",
            "NumPy Max: 48\n",
            "NumPy Range: 35\n"
          ]
        }
      ]
    },
    {
      "cell_type": "code",
      "source": [
        "data = [5, 7, 3, 7, 9, 10, 15, 7]\n",
        "\n",
        "# Manual\n",
        "mean_data = sum(data) / len(data)\n",
        "variance_manual = sum((x - mean_data) ** 2 for x in data) / len(data)\n",
        "std_manual = variance_manual ** 0.5\n",
        "print(\"Manual Variance:\", variance_manual)\n",
        "print(\"Manual Std Dev:\", std_manual)\n",
        "\n",
        "# NumPy\n",
        "print(\"NumPy Variance:\", np.var(data))\n",
        "print(\"NumPy Std Dev:\", np.std(data))\n"
      ],
      "metadata": {
        "colab": {
          "base_uri": "https://localhost:8080/"
        },
        "id": "U3QyIODztAWJ",
        "outputId": "bff0d5f2-a894-4361-ac15-d170b400a17d"
      },
      "execution_count": 4,
      "outputs": [
        {
          "output_type": "stream",
          "name": "stdout",
          "text": [
            "Manual Variance: 11.359375\n",
            "Manual Std Dev: 3.370367190678191\n",
            "NumPy Variance: 11.359375\n",
            "NumPy Std Dev: 3.370367190678191\n"
          ]
        }
      ]
    },
    {
      "cell_type": "code",
      "source": [
        "\n",
        "Q1 = np.percentile(data, 25)\n",
        "Q2 = np.percentile(data, 50)\n",
        "Q3 = np.percentile(data, 75)\n",
        "IQR = Q3 - Q1\n",
        "\n",
        "print(\"Q1:\", Q1)\n",
        "print(\"Q2 (Median):\", Q2)\n",
        "print(\"Q3:\", Q3)\n",
        "print(\"IQR:\", IQR)\n"
      ],
      "metadata": {
        "colab": {
          "base_uri": "https://localhost:8080/"
        },
        "id": "qMrCr91qtAYO",
        "outputId": "975c0a48-b7ff-4c05-9d69-14e80daa2032"
      },
      "execution_count": 5,
      "outputs": [
        {
          "output_type": "stream",
          "name": "stdout",
          "text": [
            "Q1: 6.5\n",
            "Q2 (Median): 7.0\n",
            "Q3: 9.25\n",
            "IQR: 2.75\n"
          ]
        }
      ]
    },
    {
      "cell_type": "code",
      "source": [
        "def z_score_normalization(lst):\n",
        "    mean_val = sum(lst) / len(lst)\n",
        "    std_val = (sum((x - mean_val) ** 2 for x in lst) / len(lst)) ** 0.5\n",
        "    return [(x - mean_val) / std_val for x in lst]\n",
        "\n",
        "z_scores = z_score_normalization(ages)\n",
        "print(\"Z-Scores:\", z_scores)\n"
      ],
      "metadata": {
        "colab": {
          "base_uri": "https://localhost:8080/"
        },
        "id": "7ajdW9TgtAau",
        "outputId": "2cdb3012-ad5a-4836-e039-37a4cb7b3b99"
      },
      "execution_count": 6,
      "outputs": [
        {
          "output_type": "stream",
          "name": "stdout",
          "text": [
            "Z-Scores: [-1.6666666666666667, 0.3333333333333333, -0.3333333333333333, -1.0, 1.0, 1.6666666666666667, -0.3333333333333333, 0.3333333333333333, 1.0, -1.0]\n"
          ]
        }
      ]
    },
    {
      "cell_type": "code",
      "source": [
        "rand_list = [random.randint(1, 100) for _ in range(20)]\n",
        "print(\"Random List:\", rand_list)\n",
        "\n",
        "window_size = 3\n",
        "moving_avg_manual = [sum(rand_list[i:i+window_size]) / window_size for i in range(len(rand_list) - window_size + 1)]\n",
        "print(\"Manual Moving Average:\", moving_avg_manual)\n",
        "\n",
        "moving_avg_numpy = np.convolve(rand_list, np.ones(window_size)/window_size, mode='valid')\n",
        "print(\"NumPy Moving Average:\", moving_avg_numpy)\n"
      ],
      "metadata": {
        "colab": {
          "base_uri": "https://localhost:8080/"
        },
        "id": "HXQGNgHKtAcy",
        "outputId": "416b6eb2-a8f3-4e41-c585-5fab25a81ea5"
      },
      "execution_count": 7,
      "outputs": [
        {
          "output_type": "stream",
          "name": "stdout",
          "text": [
            "Random List: [87, 88, 31, 29, 85, 85, 41, 77, 74, 53, 49, 59, 72, 24, 84, 27, 99, 51, 64, 56]\n",
            "Manual Moving Average: [68.66666666666667, 49.333333333333336, 48.333333333333336, 66.33333333333333, 70.33333333333333, 67.66666666666667, 64.0, 68.0, 58.666666666666664, 53.666666666666664, 60.0, 51.666666666666664, 60.0, 45.0, 70.0, 59.0, 71.33333333333333, 57.0]\n",
            "NumPy Moving Average: [68.66666667 49.33333333 48.33333333 66.33333333 70.33333333 67.66666667\n",
            " 64.         68.         58.66666667 53.66666667 60.         51.66666667\n",
            " 60.         45.         70.         59.         71.33333333 57.        ]\n"
          ]
        }
      ]
    },
    {
      "cell_type": "code",
      "source": [
        "data_outliers = list(range(1, 26)) + [300, 400]\n",
        "\n",
        "Q1_o = np.percentile(data_outliers, 25)\n",
        "Q3_o = np.percentile(data_outliers, 75)\n",
        "IQR_o = Q3_o - Q1_o\n",
        "lower_bound = Q1_o - 1.5 * IQR_o\n",
        "upper_bound = Q3_o + 1.5 * IQR_o\n",
        "\n",
        "outliers = [x for x in data_outliers if x < lower_bound or x > upper_bound]\n",
        "\n",
        "print(\"Data:\", data_outliers)\n",
        "print(\"Detected Outliers:\", outliers)\n"
      ],
      "metadata": {
        "colab": {
          "base_uri": "https://localhost:8080/"
        },
        "id": "rZy4rFCAtAgE",
        "outputId": "6eb99d1d-a7b2-4b9d-a700-66aed573a4c7"
      },
      "execution_count": 8,
      "outputs": [
        {
          "output_type": "stream",
          "name": "stdout",
          "text": [
            "Data: [1, 2, 3, 4, 5, 6, 7, 8, 9, 10, 11, 12, 13, 14, 15, 16, 17, 18, 19, 20, 21, 22, 23, 24, 25, 300, 400]\n",
            "Detected Outliers: [300, 400]\n"
          ]
        }
      ]
    }
  ]
}